{
 "cells": [
  {
   "cell_type": "markdown",
   "id": "05d202c0",
   "metadata": {},
   "source": [
    "# Bienvenue sur le fichier de mise en forme\n",
    "\n",
    "Avant de lancer ce script :\n",
    "1. Placez le fichier \"compte_mandat.xls\" que vous souhaitez formater dans le même dossier que ce notebook.\n",
    "2. Assurez-vous bien que ce fichier s'appel \"compte_mandat.xls\"\n",
    "3. S'il existe, fermez le fichier excel \"compte_mandat_clean.xls\" autrement, le fait qu'il soit ouvert peut empêcher le fonctionnement de ce script\n",
    "\n",
    "Après vérification, vous pouvez lancer le script :\n",
    "1. Dans la barre au dessus, cliquez sur le bouton <button class=\"btn btn-default\" title=\"redémarrer le noyau, et ré-exécuter tout le notebook (sans confirmation)\"><i class=\"fa-forward fa\"></i></button>\n",
    "2. Les cellules de ce notebook seront jouées les unes après les autres.\n",
    "3. La toute dernière cellule produira le fichier excel correctement formatté, appelé \"compte_mandat_clean.xls\"\n",
    "\n",
    "<i class='fa fa-warning'></i> Si des erreurs apparaissent au long de ce script, alors soit :\n",
    "* Le fichier Excel source est manquant\n",
    "* Le fichier Excel source est incorrectement nommé\n",
    "* Le fichier Excel destination est ouvert, ce qui empêche l'export d'un nouveau fichier Excel"
   ]
  },
  {
   "cell_type": "code",
   "execution_count": 3,
   "id": "c6bdfd4a",
   "metadata": {},
   "outputs": [],
   "source": [
    "# Importation de librairies\n",
    "import sys\n",
    "sys.tracebacklimit = 0\n",
    "import re\n",
    "import glob\n",
    "import pandas as pd\n",
    "from tabulate import tabulate\n",
    "from datetime import datetime, timedelta, date\n",
    "import numpy as np\n",
    "import os\n",
    "from dateutil.relativedelta import relativedelta\n",
    "import time\n",
    "from pathlib import Path\n",
    "from openpyxl import load_workbook\n",
    "pd.set_option('display.max_colwidth', None)\n",
    "# pd.set_option('display.width', 1000)"
   ]
  },
  {
   "cell_type": "code",
   "execution_count": 4,
   "id": "41e144b8",
   "metadata": {},
   "outputs": [
    {
     "name": "stdout",
     "output_type": "stream",
     "text": [
      "*** No CODEPAGE record, no encoding_override: will use 'iso-8859-1'\n",
      "\n",
      "Ne pas tenir compte du message ci-dessus ci-dessus.\n"
     ]
    }
   ],
   "source": [
    "# On récupère le fichier dans le répertoire courant.\n",
    "\n",
    "li = []\n",
    "error_log=[]\n",
    "filenames=[]\n",
    "filename=glob.glob(\"compte_mandat.xls\")[0] \n",
    "    \n",
    "df=pd.read_excel(filename, engine=\"xlrd\", header = None)\n",
    "print(\"\\nNe pas tenir compte du message ci-dessus ci-dessus.\")\n"
   ]
  },
  {
   "cell_type": "code",
   "execution_count": 5,
   "id": "b4cd528b",
   "metadata": {},
   "outputs": [
    {
     "name": "stdout",
     "output_type": "stream",
     "text": [
      "41100027 MORANCE SERGE\n"
     ]
    }
   ],
   "source": [
    "# On élimine l'ensemble des colonnes qui ne servent à rien\n",
    "col_to_drop=[]\n",
    "df_height,_=df.shape\n",
    "\n",
    "intitule=df[14].iloc[3]\n",
    "print(intitule)\n",
    "\n",
    "for col in df.columns:\n",
    "    count = df[col].isna().sum()\n",
    "    if (count/df_height)>0.95:\n",
    "        col_to_drop.append(col)\n",
    "# On drop les premières lignes qui ne servent à rien\n",
    "df_drop=df.drop(col_to_drop, axis=1)\n",
    "df_drop = df_drop.iloc[4: , :]"
   ]
  },
  {
   "cell_type": "code",
   "execution_count": 6,
   "id": "d3edbbf2",
   "metadata": {
    "scrolled": true
   },
   "outputs": [],
   "source": [
    "# Dans les colonnes 1 (Pièce) et 14 (Sous-Total), s'il y a une cellule vide, je la renseine à partir de la prochaine valeur non-vide situé en dessous d'elle.\n",
    "# df_drop[1].bfill(inplace=True)\n",
    "# df_drop[14].bfill(inplace=True)\n",
    "\n",
    "# On créer un alias pour éviter de perdre la donnée déjà obtenue et travailler sur une copie\n",
    "df_alias=df_drop\n",
    "\n",
    "# On supprime toutes les lignes dont la colonne 0 (Date) est nulle\n",
    "# df_alias = df.drop(df[df[0].isnull()].index)\n",
    "\n",
    "# On remplace le mot \"Pièce\" par \"\" (rien) pour éviter que le tableau soit trop chargé inutillement\n",
    "# df_alias.replace(\"Pièce : \",\"\",regex=True,inplace=True)\n",
    "df_alias.replace(np.nan,\"\",regex=True,inplace=True)\n",
    "\n",
    "# On renomme les colonnes pour avoir des libellés clairs\n",
    "df_alias.rename(columns={0: \"Pièce\"},inplace=True)\n",
    "df_alias.rename(columns={3: \"Date\"},inplace=True)\n",
    "df_alias.rename(columns={6: \"C.A\"},inplace=True)\n",
    "df_alias.rename(columns={7: \"Compte\"},inplace=True)\n",
    "df_alias.rename(columns={9: \"Jal\"},inplace=True)\n",
    "df_alias.rename(columns={11: \"Intitulé\"},inplace=True)\n",
    "df_alias.rename(columns={13: \"\"},inplace=True)\n",
    "df_alias.rename(columns={17: \"N° Chèque\"},inplace=True)\n",
    "df_alias.rename(columns={21: \"Débit\"},inplace=True)\n",
    "df_alias.rename(columns={25: \"Crédit\"},inplace=True)\n",
    "df_alias.rename(columns={27: \"Solde\"},inplace=True)"
   ]
  },
  {
   "cell_type": "code",
   "execution_count": 7,
   "id": "0f845ec5",
   "metadata": {},
   "outputs": [],
   "source": [
    "# result_df = df_alias.drop_duplicates(subset=['Libellé'], keep='first')\n",
    "# sort_df=result_df.sort_values(by=['Libellé'])"
   ]
  },
  {
   "cell_type": "code",
   "execution_count": 8,
   "id": "9cce845b",
   "metadata": {},
   "outputs": [
    {
     "name": "stdout",
     "output_type": "stream",
     "text": [
      "compte_mandat\n"
     ]
    }
   ],
   "source": [
    "filename=filename.split(\".\")[0]\n",
    "print(filename)\n",
    "# On exporte en un fichier excel propre\n",
    "# Si erreur, vérifiez que le fichier excel n'est pas déjà ouvert\n",
    "df_alias.to_excel(filename+\"_\"+intitule+\"_\"+'_clean.xlsx', engine='xlsxwriter',index=False)     "
   ]
  }
 ],
 "metadata": {
  "celltoolbar": "Format de la Cellule Texte Brut",
  "kernelspec": {
   "display_name": "notebookenv",
   "language": "python",
   "name": "notebookenv"
  },
  "language_info": {
   "codemirror_mode": {
    "name": "ipython",
    "version": 3
   },
   "file_extension": ".py",
   "mimetype": "text/x-python",
   "name": "python",
   "nbconvert_exporter": "python",
   "pygments_lexer": "ipython3",
   "version": "3.10.4"
  }
 },
 "nbformat": 4,
 "nbformat_minor": 5
}
