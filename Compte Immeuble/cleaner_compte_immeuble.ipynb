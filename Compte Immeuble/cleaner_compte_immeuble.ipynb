{
 "cells": [
  {
   "cell_type": "markdown",
   "id": "05d202c0",
   "metadata": {},
   "source": [
    "# Bienvenue sur le fichier de mise en forme\n",
    "\n",
    "Avant de lancer ce script :\n",
    "1. Placez le fichier \"compte_mandat.xls\" que vous souhaitez formater dans le même dossier que ce notebook.\n",
    "2. Assurez-vous bien que ce fichier s'appel \"compte_mandat.xls\"\n",
    "3. S'il existe, fermez le fichier excel \"compte_mandat_clean.xls\" autrement, le fait qu'il soit ouvert peut empêcher le fonctionnement de ce script\n",
    "\n",
    "Après vérification, vous pouvez lancer le script :\n",
    "1. Dans la barre au dessus, cliquez sur le bouton <button class=\"btn btn-default\" title=\"redémarrer le noyau, et ré-exécuter tout le notebook (sans confirmation)\"><i class=\"fa-forward fa\"></i></button>\n",
    "2. Les cellules de ce notebook seront jouées les unes après les autres.\n",
    "3. La toute dernière cellule produira le fichier excel correctement formatté, appelé \"compte_mandat_clean.xls\"\n",
    "\n",
    "<i class='fa fa-warning'></i> Si des erreurs apparaissent au long de ce script, alors soit :\n",
    "* Le fichier Excel source est manquant\n",
    "* Le fichier Excel source est incorrectement nommé\n",
    "* Le fichier Excel destination est ouvert, ce qui empêche l'export d'un nouveau fichier Excel"
   ]
  },
  {
   "cell_type": "code",
   "execution_count": 12,
   "id": "c6bdfd4a",
   "metadata": {},
   "outputs": [],
   "source": [
    "# Importation de librairies\n",
    "import sys\n",
    "sys.tracebacklimit = 0\n",
    "import re\n",
    "import glob\n",
    "import pandas as pd\n",
    "from tabulate import tabulate\n",
    "from datetime import datetime, timedelta, date\n",
    "import numpy as np\n",
    "import os\n",
    "from dateutil.relativedelta import relativedelta\n",
    "import time\n",
    "from pathlib import Path\n",
    "from openpyxl import load_workbook\n",
    "pd.set_option('display.max_colwidth', None)\n",
    "# pd.set_option('display.width', 1000)"
   ]
  },
  {
   "cell_type": "code",
   "execution_count": 16,
   "id": "41e144b8",
   "metadata": {},
   "outputs": [
    {
     "name": "stdout",
     "output_type": "stream",
     "text": [
      "*** No CODEPAGE record, no encoding_override: will use 'iso-8859-1'\n",
      "\n",
      "Ne pas tenir compte du message ci-dessus ci-dessus.\n"
     ]
    }
   ],
   "source": [
    "# On récupère le fichier dans le répertoire courant.\n",
    "\n",
    "li = []\n",
    "error_log=[]\n",
    "filenames=[]\n",
    "filename=glob.glob(\"compte_mandat.xls\")[0] \n",
    "    \n",
    "df=pd.read_excel(filename, engine=\"xlrd\", header = None)\n",
    "print(\"\\nNe pas tenir compte du message ci-dessus ci-dessus.\")\n"
   ]
  },
  {
   "cell_type": "code",
   "execution_count": null,
   "id": "b4cd528b",
   "metadata": {},
   "outputs": [
    {
     "name": "stdout",
     "output_type": "stream",
     "text": [
      "41100027 MORANCE SERGE\n",
      "---\n",
      "        0           3     6         7    9                               11  \\\n",
      "4   3299.0  08/01/2015   3.0  512001.0   PR         REGLT. PLANETE PUBLIQUE   \n",
      "5   3346.0  12/01/2015  21.0  512001.0   VI             DENIS: APPEL 1T2015   \n",
      "6   3392.0  19/01/2015  27.0  512001.0   OD   TP: TVA A PAYER DECEMBRE 2014   \n",
      "7   3598.0  20/01/2015   2.0  512001.0   VI          REGLEMENT PAR VIREMENT   \n",
      "8      NaN         NaN   NaN       NaN  NaN                             NaN   \n",
      "9   3711.0  08/02/2015   3.0  512001.0   PR         REGLT. PLANETE PUBLIQUE   \n",
      "10  3834.0  11/02/2015  22.0  512001.0   VI  DENIS: ACT 12 & 13 TVX AG 2013   \n",
      "11  3879.0  13/02/2015  13.0  512001.0   OD           TP: TAXE BUREAUX 2015   \n",
      "12  3914.0  16/02/2015   2.0  512001.0   VI          REGLEMENT PAR VIREMENT   \n",
      "13  3888.0  19/02/2015  27.0  512001.0   OD    TP: TVA A PAYER JANVIER 2015   \n",
      "14     NaN         NaN   NaN       NaN  NaN                             NaN   \n",
      "15  4014.0  08/03/2015   3.0  512001.0   PR         REGLT. PLANETE PUBLIQUE   \n",
      "16  4041.0  17/03/2015  27.0  512001.0   OD    TP: TVA A PAYER FEVRIER 2015   \n",
      "17  4148.0  19/03/2015  22.0  512001.0   VI        DENIS: SOLDE TVX AG 2013   \n",
      "18  4254.0  20/03/2015   2.0  512001.0   VI          REGLEMENT PAR VIREMENT   \n",
      "19  3815.0  25/03/2015  16.0  512001.0   VI                   ECA: PNO 2015   \n",
      "20  4313.0  30/03/2015   1.0  468001.0   HO           HONORAIRES DE GERANCE   \n",
      "21     NaN         NaN   NaN       NaN  NaN                             NaN   \n",
      "22  4324.0  08/04/2015   3.0  512001.0   PR         REGLT. PLANETE PUBLIQUE   \n",
      "23  4374.0  13/04/2015  21.0  512001.0   VI             DENIS: APPEL 2T2015   \n",
      "\n",
      "               13       17        21        25            27  \n",
      "4             NaN      NaN       NaN   9797.05   -9 797.05   \n",
      "5             NaN      NaN   2747.46       NaN   -7 049.59   \n",
      "6             NaN      NaN   1205.00       NaN   -5 844.59   \n",
      "7             NaN      NaN   5260.75       NaN     -583.84   \n",
      "8   Total du mois      NaN   9213.21   9797.05           NaN  \n",
      "9             NaN      NaN       NaN   9797.05  -10 380.89   \n",
      "10            NaN      NaN   2000.00       NaN   -8 380.89   \n",
      "11            NaN  1000087   3416.00       NaN   -4 964.89   \n",
      "12            NaN      NaN   2000.00       NaN   -2 964.89   \n",
      "13            NaN      NaN   1497.00       NaN   -1 467.89   \n",
      "14  Total du mois      NaN   8913.00   9797.05           NaN  \n",
      "15            NaN      NaN       NaN  13896.25  -15 364.14   \n",
      "16            NaN      NaN   1497.00       NaN  -13 867.14   \n",
      "17            NaN      NaN   1495.74       NaN  -12 371.40   \n",
      "18            NaN      NaN  10344.90       NaN   -2 026.50   \n",
      "19            NaN      NaN    275.00       NaN   -1 751.50   \n",
      "20            NaN      NaN   1751.50       NaN             0  \n",
      "21  Total du mois      NaN  15364.14  13896.25           NaN  \n",
      "22            NaN      NaN       NaN   9797.05   -9 797.05   \n",
      "23            NaN      NaN   2747.46       NaN   -7 049.59   \n"
     ]
    }
   ],
   "source": [
    "# On élimine l'ensemble des colonnes qui ne servent à rien\n",
    "col_to_drop=[]\n",
    "df_height,_=df.shape\n",
    "\n",
    "intitule=df[14].iloc[3]\n",
    "print(intitule)\n",
    "\n",
    "for col in df.columns:\n",
    "    count = df[col].isna().sum()\n",
    "    if (count/df_height)>0.95:\n",
    "        col_to_drop.append(col)\n",
    "# On drop les premières lignes qui ne servent à rien\n",
    "df_drop=df.drop(col_to_drop, axis=1)\n",
    "df_drop = df_drop.iloc[4: , :]"
   ]
  },
  {
   "cell_type": "code",
   "execution_count": 18,
   "id": "d3edbbf2",
   "metadata": {
    "scrolled": true
   },
   "outputs": [
    {
     "name": "stdout",
     "output_type": "stream",
     "text": [
      "       Pièce        Date   C.A      Compte Jal                       Intitulé  \\\n",
      "4     3299.0  08/01/2015   3.0    512001.0  PR        REGLT. PLANETE PUBLIQUE   \n",
      "5     3346.0  12/01/2015  21.0    512001.0  VI            DENIS: APPEL 1T2015   \n",
      "6     3392.0  19/01/2015  27.0    512001.0  OD  TP: TVA A PAYER DECEMBRE 2014   \n",
      "7     3598.0  20/01/2015   2.0    512001.0  VI         REGLEMENT PAR VIREMENT   \n",
      "8                                                                               \n",
      "..       ...         ...   ...         ...  ..                            ...   \n",
      "394  10687.0  16/10/2019  13.0    512001.0  OD         TP: TAXE FONCIERE 2019   \n",
      "395                                                                             \n",
      "396  11064.0  08/11/2019  13.0  41100273.0  OD        RBST TAXE FONCIERE 2019   \n",
      "397                                                                             \n",
      "398                                                                             \n",
      "\n",
      "                     N° Chèque    Débit     Crédit        Solde  \n",
      "4                                          9797.05  -9 797.05   \n",
      "5                               2747.46             -7 049.59   \n",
      "6                                1205.0             -5 844.59   \n",
      "7                               5260.75               -583.84   \n",
      "8      Total du mois            9213.21    9797.05               \n",
      "..               ...       ...      ...        ...          ...  \n",
      "394                              4350.0                    4350  \n",
      "395    Total du mois             4350.0        0.0               \n",
      "396                    000VIRT              4350.0            0  \n",
      "397    Total du mois                0.0     4350.0               \n",
      "398  Total du compte                     863791.25               \n",
      "\n",
      "[395 rows x 11 columns]\n"
     ]
    }
   ],
   "source": [
    "# Dans les colonnes 1 (Pièce) et 14 (Sous-Total), s'il y a une cellule vide, je la renseine à partir de la prochaine valeur non-vide situé en dessous d'elle.\n",
    "# df_drop[1].bfill(inplace=True)\n",
    "# df_drop[14].bfill(inplace=True)\n",
    "\n",
    "# On créer un alias pour éviter de perdre la donnée déjà obtenue et travailler sur une copie\n",
    "df_alias=df_drop\n",
    "\n",
    "# On supprime toutes les lignes dont la colonne 0 (Date) est nulle\n",
    "# df_alias = df.drop(df[df[0].isnull()].index)\n",
    "\n",
    "# On remplace le mot \"Pièce\" par \"\" (rien) pour éviter que le tableau soit trop chargé inutillement\n",
    "# df_alias.replace(\"Pièce : \",\"\",regex=True,inplace=True)\n",
    "df_alias.replace(np.nan,\"\",regex=True,inplace=True)\n",
    "\n",
    "# On renomme les colonnes pour avoir des libellés clairs\n",
    "df_alias.rename(columns={0: \"Pièce\"},inplace=True)\n",
    "df_alias.rename(columns={3: \"Date\"},inplace=True)\n",
    "df_alias.rename(columns={6: \"C.A\"},inplace=True)\n",
    "df_alias.rename(columns={7: \"Compte\"},inplace=True)\n",
    "df_alias.rename(columns={9: \"Jal\"},inplace=True)\n",
    "df_alias.rename(columns={11: \"Intitulé\"},inplace=True)\n",
    "df_alias.rename(columns={13: \"\"},inplace=True)\n",
    "df_alias.rename(columns={17: \"N° Chèque\"},inplace=True)\n",
    "df_alias.rename(columns={21: \"Débit\"},inplace=True)\n",
    "df_alias.rename(columns={25: \"Crédit\"},inplace=True)\n",
    "df_alias.rename(columns={27: \"Solde\"},inplace=True)"
   ]
  },
  {
   "cell_type": "code",
   "execution_count": 5,
   "id": "0f845ec5",
   "metadata": {},
   "outputs": [],
   "source": [
    "# result_df = df_alias.drop_duplicates(subset=['Libellé'], keep='first')\n",
    "# sort_df=result_df.sort_values(by=['Libellé'])"
   ]
  },
  {
   "cell_type": "code",
   "execution_count": 19,
   "id": "9cce845b",
   "metadata": {},
   "outputs": [
    {
     "name": "stdout",
     "output_type": "stream",
     "text": [
      "compte_mandat\n",
      "Export réussi !\n",
      "Le fichier suivant a été créé :\n",
      "- compte_mandat_41100027 MORANCE SERGE__clean.xlsx\n"
     ]
    }
   ],
   "source": [
    "filename=filename.split(\".\")[0]\n",
    "print(filename)\n",
    "# On exporte en un fichier excel propre\n",
    "# Si erreur, vérifiez que le fichier excel n'est pas déjà ouvert\n",
    "df_alias.to_excel(filename+\"_\"+intitule+\"_\"+'_clean.xlsx', engine='xlsxwriter',index=False)     "
   ]
  }
 ],
 "metadata": {
  "celltoolbar": "Format de la Cellule Texte Brut",
  "kernelspec": {
   "display_name": "notebookenv",
   "language": "python",
   "name": "notebookenv"
  },
  "language_info": {
   "codemirror_mode": {
    "name": "ipython",
    "version": 3
   },
   "file_extension": ".py",
   "mimetype": "text/x-python",
   "name": "python",
   "nbconvert_exporter": "python",
   "pygments_lexer": "ipython3",
   "version": "3.10.4"
  }
 },
 "nbformat": 4,
 "nbformat_minor": 5
}
