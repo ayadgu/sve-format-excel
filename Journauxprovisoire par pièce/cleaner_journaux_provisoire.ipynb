{
 "cells": [
  {
   "cell_type": "markdown",
   "id": "05d202c0",
   "metadata": {},
   "source": [
    "# Bienvenue sur le fichier de mise en forme\n",
    "\n",
    "Avant de lancer ce script :\n",
    "1. Placez le fichier excel des journaux provisoires que vous souhaitez formater dans le même dossier que ce notebook.\n",
    "2. Assurez-vous que ce fichier s'appel \"journal_provisoire_par_piece.xls\"\n",
    "3. Fermez le fichier excel \"journal_provisoire_par_piece_clean.xls\" s'il est ouvert autrement cela empêcherait l'export d'un nouveau fichier excel correctement formatté.\n",
    "\n",
    "Après vérification, vous pouvez lancer le script :\n",
    "1. Dans la barre au dessus, cliquez sur le bouton avec <button class=\"btn btn-default\" title=\"redémarrer le noyau, et ré-exécuter tout le notebook (sans confirmation)\"><i class=\"fa-forward fa\"></i></button> les deux triangles noirs orientés à droites pour relancer et exécuter toutes les cellules.\n",
    "2. Les cellules de ce notebook seront jouées les unes après les autres.\n",
    "3. La toute dernière cellule produira le fichier excel correctement formatté, appelé \"journal_provisoire_par_piece_clean.xls\"\n",
    "\n",
    "<i class='fa fa-warning'></i> S'il apparaît une fenêtre indiquant que le noyau a planté, alors le fichier excel \"journal_provisoire_par_piece.xls\" est certainement manquant."
   ]
  },
  {
   "cell_type": "code",
   "execution_count": 264,
   "id": "c6bdfd4a",
   "metadata": {},
   "outputs": [],
   "source": [
    "# Importation de librairies\n",
    "import sys\n",
    "sys.tracebacklimit = 0\n",
    "import re\n",
    "import glob\n",
    "import pandas as pd\n",
    "from tabulate import tabulate\n",
    "from datetime import datetime, timedelta, date\n",
    "import numpy as np\n",
    "import os\n",
    "from dateutil.relativedelta import relativedelta\n",
    "import time\n",
    "from pathlib import Path\n",
    "from openpyxl import load_workbook"
   ]
  },
  {
   "cell_type": "code",
   "execution_count": 265,
   "id": "41e144b8",
   "metadata": {},
   "outputs": [
    {
     "name": "stdout",
     "output_type": "stream",
     "text": [
      "13-06-2022-11-07-26\n",
      "journal_provisoire_par_piece.xls\n",
      "*** No CODEPAGE record, no encoding_override: will use 'iso-8859-1'\n",
      "\n",
      "Ne pas tenir compte du message ci-dessus ci-dessus.\n"
     ]
    }
   ],
   "source": [
    "# On récupère le fichier dans le répertoire courant.\n",
    "\n",
    "now = datetime.now()\n",
    "dt_string = now.strftime(\"%d-%m-%Y-%H-%M-%S\")\n",
    "print(dt_string)\n",
    "li = []\n",
    "error_log=[]\n",
    "filenames=[]\n",
    "filename=glob.glob(\"journal_provisoire_par_piece.xls\")[0]    \n",
    "print(filename)\n",
    "df=pd.read_excel(filename, engine=\"xlrd\", header = None)\n",
    "print(\"\\nNe pas tenir compte du message ci-dessus ci-dessus.\")"
   ]
  },
  {
   "cell_type": "code",
   "execution_count": 268,
   "id": "b4cd528b",
   "metadata": {
    "scrolled": true
   },
   "outputs": [
    {
     "name": "stdout",
     "output_type": "stream",
     "text": [
      "           0              1     2                      3           4       5   \\\n",
      "0         NaN            NaN   NaN                    NaN         NaN     NaN   \n",
      "1         NaN              1   NaN  SURFACE VOLUME ESPACE         NaN     NaN   \n",
      "2         NaN            NaN  Date                    NaN         NaN  Compte   \n",
      "3         NaN  Pièce : 20102   NaN                    NaN         NaN     NaN   \n",
      "4  24/01/2022            NaN   NaN                    NaN  41100675.0     NaN   \n",
      "\n",
      "         6                                     7        8    9   ...       13  \\\n",
      "0       NaN  Journal général provisoire par pièce      NaN  NaN  ...      NaN   \n",
      "1       NaN                                   NaN      NaN  NaN  ...      NaN   \n",
      "2       NaN                                   NaN  Ctr-Par  Jal  ...  Libellé   \n",
      "3       NaN                                   NaN      NaN  NaN  ...      NaN   \n",
      "4  512675.0                                   NaN      NaN   VI  ...      NaN   \n",
      "\n",
      "    14          15        16     17    18     19   20      21  22  \n",
      "0  NaN         NaN       NaN    NaN   NaN    NaN  NaN     NaN NaN  \n",
      "1  NaN  08/06/2022       NaN    NaN  Page    NaN  1.0     NaN NaN  \n",
      "2  NaN         NaN  N°Chèque  Débit   NaN    NaN  NaN  Crédit NaN  \n",
      "3  NaN         NaN       NaN    NaN   NaN    NaN  NaN     NaN NaN  \n",
      "4  NaN         NaN       NaN    NaN   NaN  497.7  NaN     NaN NaN  \n",
      "\n",
      "[5 rows x 23 columns]\n",
      "[2, 3, 5, 7, 8, 13, 15, 16, 17, 18, 20, 21, 10, 12, 13]\n",
      "            0              1           4           6    9   \\\n",
      "3          NaN  Pièce : 20102         NaN         NaN  NaN   \n",
      "4   24/01/2022            NaN  41100675.0    512675.0   VI   \n",
      "5   24/01/2022            NaN    512675.0  41100675.0   VI   \n",
      "6          NaN            NaN         NaN         NaN  NaN   \n",
      "7          NaN  Pièce : 22489         NaN         NaN  NaN   \n",
      "8   06/01/2022            NaN  41100207.0    512001.0   VI   \n",
      "9   06/01/2022            NaN    512001.0  41100207.0   VI   \n",
      "10         NaN            NaN         NaN         NaN  NaN   \n",
      "11         NaN  Pièce : 22651         NaN         NaN  NaN   \n",
      "12  20/01/2022            NaN  41100207.0    512001.0   VI   \n",
      "\n",
      "                                11                        14      19      22  \n",
      "3                              NaN                       NaN     NaN     NaN  \n",
      "4   AGN: NETTOY PK SUITE INFILTRAT                       NaN   497.7     NaN  \n",
      "5   AGN: NETTOY PK SUITE INFILTRAT                       NaN     NaN   497.7  \n",
      "6                              NaN  Sous total pièce 20102 :   497.7   497.7  \n",
      "7                              NaN                       NaN     NaN     NaN  \n",
      "8           MBS  TVX PEINTURE& SOL                       NaN  1210.0     NaN  \n",
      "9           MBS  TVX PEINTURE& SOL                       NaN     NaN  1210.0  \n",
      "10                             NaN  Sous total pièce 22489 :  1210.0  1210.0  \n",
      "11                             NaN                       NaN     NaN     NaN  \n",
      "12    ADI DIAGNOSTICS  APPARTEMENT                       NaN   348.0     NaN  \n"
     ]
    }
   ],
   "source": [
    "col_to_drop=[]\n",
    "df_height,_=df.shape\n",
    "\n",
    "print(df.head())\n",
    "# On élimine les colonnes qui ne servent à rien\n",
    "for col in df.columns:\n",
    "    count = df[col].isna().sum()\n",
    "    if (count/df_height)>0.95:\n",
    "        col_to_drop.append(col)\n",
    "\n",
    "col_to_drop.extend([10,12,13])\n",
    "print(col_to_drop)\n",
    "\n",
    "\n",
    "df_drop=df.drop(col_to_drop, axis=1)\n",
    "df_drop = df_drop.iloc[3: , :]\n",
    "\n",
    "print(df_drop.head(10))"
   ]
  },
  {
   "cell_type": "code",
   "execution_count": 269,
   "id": "d3edbbf2",
   "metadata": {
    "scrolled": true
   },
   "outputs": [
    {
     "name": "stdout",
     "output_type": "stream",
     "text": [
      "\n",
      "\n",
      "          Date  Pièce      Compte     Ctr-Par Jal  \\\n",
      "4   24/01/2022  20102  41100675.0    512675.0  VI   \n",
      "5   24/01/2022  20102    512675.0  41100675.0  VI   \n",
      "6                                                   \n",
      "8   06/01/2022  22489  41100207.0    512001.0  VI   \n",
      "9   06/01/2022  22489    512001.0  41100207.0  VI   \n",
      "10                                                  \n",
      "12  20/01/2022  22651  41100207.0    512001.0  VI   \n",
      "13  20/01/2022  22651    512001.0  41100207.0  VI   \n",
      "14                                                  \n",
      "16  24/01/2022  22875  41100675.0    512675.0  VI   \n",
      "\n",
      "                           Libellé               Débit  Crédit  \n",
      "4   AGN: NETTOY PK SUITE INFILTRAT               497.7          \n",
      "5   AGN: NETTOY PK SUITE INFILTRAT                       497.7  \n",
      "6                                   Sous-Total   497.7   497.7  \n",
      "8           MBS  TVX PEINTURE& SOL              1210.0          \n",
      "9           MBS  TVX PEINTURE& SOL                      1210.0  \n",
      "10                                  Sous-Total  1210.0  1210.0  \n",
      "12    ADI DIAGNOSTICS  APPARTEMENT               348.0          \n",
      "13    ADI DIAGNOSTICS  APPARTEMENT                       348.0  \n",
      "14                                  Sous-Total   348.0   348.0  \n",
      "16            AGN BALAYAGE PARKING                60.0          \n"
     ]
    }
   ],
   "source": [
    "df_alias=\"\"\n",
    "df_alias=df_drop\n",
    "\n",
    "\n",
    "# Dans les colonnes 1 (Pièce) et 14 (Sous-Total), s'il y a une cellule vide, je la renseine à partir de la prochaine valeur non-vide situé en dessous d'elle.\n",
    "# df_alias[1].ffill(inplace=True)\n",
    "# df_alias[14].bfill(inplace=True)\n",
    "df_alias[1].ffill(inplace=True)\n",
    "\n",
    "# On créer un alias pour éviter de perdre la donnée déjà obtenue et travailler sur une copie\n",
    "print(\"\\n\")\n",
    "\n",
    "# On supprime toutes les lignes dont la colonne 0 (Date) est nulle\n",
    "df_alias = df_alias.drop(df_alias[df_alias[0].isnull() & df_alias[14].isnull()].index)\n",
    "\n",
    "# On remplace le mot \"Pièce\" par \"\" (rien) pour éviter que le tableau soit trop chargé inutillement\n",
    "df_alias.replace(\"Pièce : \",\"\",regex=True,inplace=True)\n",
    "# df_alias.replace(np.nan,0,regex=True,inplace=True)\n",
    "df_alias.replace(np.nan,\"\",regex=True,inplace=True)\n",
    "df_alias[14].replace('Sous total pièce [0-9]+ :',\"Sous-Total\",regex=True,inplace=True)\n",
    "\n",
    "df_alias.loc[df[0].isnull(),[1]] = \"\"\n",
    "\n",
    "df_rename=df_alias\n",
    "\n",
    "# On renomme les colonnes pour avoir des libellés clairs\n",
    "df_rename.rename(columns={0: \"Date\"},inplace=True)\n",
    "df_rename.rename(columns={1: \"Pièce\"},inplace=True)\n",
    "df_rename.rename(columns={4: \"Compte\"},inplace=True)\n",
    "df_rename.rename(columns={6: \"Ctr-Par\"},inplace=True)\n",
    "df_rename.rename(columns={9: \"Jal\"},inplace=True)\n",
    "df_rename.rename(columns={11: \"Libellé\"},inplace=True)\n",
    "df_rename.rename(columns={12: \"Solde\"},inplace=True)\n",
    "df_rename.rename(columns={14: \"\"},inplace=True)\n",
    "df_rename.rename(columns={19: \"Débit\"},inplace=True)\n",
    "df_rename.rename(columns={22: \"Crédit\"},inplace=True)\n",
    "\n",
    "\n",
    "print(df_rename.head(10))"
   ]
  },
  {
   "cell_type": "code",
   "execution_count": 5,
   "id": "0f845ec5",
   "metadata": {},
   "outputs": [],
   "source": [
    "# result_df = df_alias.drop_duplicates(subset=['Libellé'], keep='first')\n",
    "# sort_df=result_df.sort_values(by=['Libellé'])"
   ]
  },
  {
   "cell_type": "code",
   "execution_count": 263,
   "id": "9cce845b",
   "metadata": {},
   "outputs": [
    {
     "name": "stdout",
     "output_type": "stream",
     "text": [
      "Export réussi !\n",
      "Le fichier suivant a été créé :\n",
      "\n",
      "journal_provisoire_par_piece_clean_13-06-2022-11-07-02.xlsx\n"
     ]
    }
   ],
   "source": [
    "now = datetime.now()\n",
    "dt_string = now.strftime(\"%d-%m-%Y-%H-%M-%S\")\n",
    "# On exporte en un fichier excel propre\n",
    "# Si erreur, vérifiez que le fichier excel n'est pas déjà ouvert\n",
    "df_alias.to_excel('journal_provisoire_par_piece_clean.xlsx', engine='xlsxwriter',index=False)     \n",
    "df_alias.to_excel(filename.split('.')[0]+'_clean_'+dt_string+'.xlsx', engine='xlsxwriter',index=False)     \n",
    "\n",
    "print(\"Export réussi !\\nLe fichier suivant a été créé :\\n\")\n",
    "print(filename.split('.')[0]+'_clean_'+dt_string+'.xlsx')"
   ]
  }
 ],
 "metadata": {
  "celltoolbar": "Format de la Cellule Texte Brut",
  "kernelspec": {
   "display_name": "notebookenv",
   "language": "python",
   "name": "notebookenv"
  },
  "language_info": {
   "codemirror_mode": {
    "name": "ipython",
    "version": 3
   },
   "file_extension": ".py",
   "mimetype": "text/x-python",
   "name": "python",
   "nbconvert_exporter": "python",
   "pygments_lexer": "ipython3",
   "version": "3.10.4"
  }
 },
 "nbformat": 4,
 "nbformat_minor": 5
}
