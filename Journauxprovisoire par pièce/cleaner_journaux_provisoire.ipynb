{
 "cells": [
  {
   "cell_type": "markdown",
   "id": "05d202c0",
   "metadata": {},
   "source": [
    "# Bienvenue sur le fichier de mise en forme\n",
    "\n",
    "Avant de lancer ce script :\n",
    "1. Placez le fichier excel des journaux provisoires que vous souhaitez formater dans le même dossier que ce notebook.\n",
    "2. Assurez-vous que ce fichier s'appel \"journal_provisoire_par_piece.xls\"\n",
    "3. Fermez le fichier excel \"journal_provisoire_par_piece_clean.xls\" s'il est ouvert autrement cela empêcherait l'export d'un nouveau fichier excel correctement formatté.\n",
    "\n",
    "Après vérification, vous pouvez lancer le script :\n",
    "1. Dans la barre au dessus, cliquez sur le bouton avec <button class=\"btn btn-default\" title=\"redémarrer le noyau, et ré-exécuter tout le notebook (sans confirmation)\"><i class=\"fa-forward fa\"></i></button> les deux triangles noirs orientés à droites pour relancer et exécuter toutes les cellules.\n",
    "2. Les cellules de ce notebook seront jouées les unes après les autres.\n",
    "3. La toute dernière cellule produira le fichier excel correctement formatté, appelé \"journal_provisoire_par_piece_clean.xls\"\n",
    "\n",
    "<i class='fa fa-warning'></i> S'il apparaît une fenêtre indiquant que le noyau a planté, alors le fichier excel \"journal_provisoire_par_piece.xls\" est certainement manquant."
   ]
  },
  {
   "cell_type": "code",
   "execution_count": 1,
   "id": "c6bdfd4a",
   "metadata": {},
   "outputs": [],
   "source": [
    "# Importation de librairies\n",
    "import sys\n",
    "sys.tracebacklimit = 0\n",
    "import re\n",
    "import glob\n",
    "import pandas as pd\n",
    "from tabulate import tabulate\n",
    "from datetime import datetime, timedelta, date\n",
    "import numpy as np\n",
    "import os\n",
    "from dateutil.relativedelta import relativedelta\n",
    "import time\n",
    "from pathlib import Path\n",
    "from openpyxl import load_workbook"
   ]
  },
  {
   "cell_type": "code",
   "execution_count": 2,
   "id": "41e144b8",
   "metadata": {},
   "outputs": [
    {
     "name": "stdout",
     "output_type": "stream",
     "text": [
      "13-06-2022-14-50-52\n",
      "journal_provisoire_par_piece.xls\n",
      "*** No CODEPAGE record, no encoding_override: will use 'iso-8859-1'\n",
      "\n",
      "Ne pas tenir compte du message ci-dessus ci-dessus.\n"
     ]
    }
   ],
   "source": [
    "# On récupère le fichier dans le répertoire courant.\n",
    "\n",
    "now = datetime.now()\n",
    "dt_string = now.strftime(\"%d-%m-%Y-%H-%M-%S\")\n",
    "print(dt_string)\n",
    "li = []\n",
    "error_log=[]\n",
    "filenames=[]\n",
    "filename=glob.glob(\"journal_provisoire_par_piece.xls\")[0]    \n",
    "print(filename)\n",
    "df=pd.read_excel(filename, engine=\"xlrd\", header = None)\n",
    "print(\"\\nNe pas tenir compte du message ci-dessus ci-dessus.\")"
   ]
  },
  {
   "cell_type": "code",
   "execution_count": 7,
   "id": "b4cd528b",
   "metadata": {
    "scrolled": true
   },
   "outputs": [],
   "source": [
    "col_to_drop=[]\n",
    "df_height,_=df.shape\n",
    "\n",
    "# On élimine les colonnes qui ne servent à rien\n",
    "for col in df.columns:\n",
    "    count = df[col].isna().sum()\n",
    "    if (count/df_height)>0.95:\n",
    "        col_to_drop.append(col)\n",
    "\n",
    "col_to_drop.extend([10,12,13])\n",
    "\n",
    "\n",
    "df_drop=df.drop(col_to_drop, axis=1)\n",
    "df_drop = df_drop.iloc[3: , :]\n"
   ]
  },
  {
   "cell_type": "code",
   "execution_count": 8,
   "id": "d3edbbf2",
   "metadata": {
    "scrolled": true
   },
   "outputs": [
    {
     "name": "stdout",
     "output_type": "stream",
     "text": [
      "\n",
      "\n"
     ]
    }
   ],
   "source": [
    "df_alias=\"\"\n",
    "df_alias=df_drop\n",
    "\n",
    "\n",
    "# Dans les colonnes 1 (Pièce) et 14 (Sous-Total), s'il y a une cellule vide, je la renseine à partir de la prochaine valeur non-vide situé en dessous d'elle.\n",
    "# df_alias[1].ffill(inplace=True)\n",
    "# df_alias[14].bfill(inplace=True)\n",
    "df_alias[1].ffill(inplace=True)\n",
    "\n",
    "# On créer un alias pour éviter de perdre la donnée déjà obtenue et travailler sur une copie\n",
    "print(\"\\n\")\n",
    "\n",
    "# On supprime toutes les lignes dont la colonne 0 (Date) est nulle\n",
    "df_alias = df_alias.drop(df_alias[df_alias[0].isnull() & df_alias[14].isnull()].index)\n",
    "\n",
    "# On remplace le mot \"Pièce\" par \"\" (rien) pour éviter que le tableau soit trop chargé inutillement\n",
    "df_alias.replace(\"Pièce : \",\"\",regex=True,inplace=True)\n",
    "# df_alias.replace(np.nan,0,regex=True,inplace=True)\n",
    "df_alias.replace(np.nan,\"\",regex=True,inplace=True)\n",
    "df_alias[14].replace('Sous total pièce [0-9]+ :',\"Sous-Total\",regex=True,inplace=True)\n",
    "\n",
    "df_alias.loc[df[0].isnull(),[1]] = \"\"\n",
    "\n",
    "df_rename=df_alias\n",
    "\n",
    "# On renomme les colonnes pour avoir des libellés clairs\n",
    "df_rename.rename(columns={0: \"Date\"},inplace=True)\n",
    "df_rename.rename(columns={1: \"Pièce\"},inplace=True)\n",
    "df_rename.rename(columns={4: \"Compte\"},inplace=True)\n",
    "df_rename.rename(columns={6: \"Ctr-Par\"},inplace=True)\n",
    "df_rename.rename(columns={9: \"Jal\"},inplace=True)\n",
    "df_rename.rename(columns={11: \"Libellé\"},inplace=True)\n",
    "df_rename.rename(columns={12: \"Solde\"},inplace=True)\n",
    "df_rename.rename(columns={14: \"\"},inplace=True)\n",
    "df_rename.rename(columns={19: \"Débit\"},inplace=True)\n",
    "df_rename.rename(columns={22: \"Crédit\"},inplace=True)"
   ]
  },
  {
   "cell_type": "code",
   "execution_count": 5,
   "id": "0f845ec5",
   "metadata": {},
   "outputs": [],
   "source": [
    "# result_df = df_alias.drop_duplicates(subset=['Libellé'], keep='first')\n",
    "# sort_df=result_df.sort_values(by=['Libellé'])"
   ]
  },
  {
   "cell_type": "code",
   "execution_count": 6,
   "id": "9cce845b",
   "metadata": {},
   "outputs": [
    {
     "name": "stdout",
     "output_type": "stream",
     "text": [
      "Export réussi !\n",
      "Le fichier suivant a été créé :\n",
      "\n"
     ]
    }
   ],
   "source": [
    "now = datetime.now()\n",
    "dt_string = now.strftime(\"%d-%m-%Y-%H-%M-%S\")\n",
    "# On exporte en un fichier excel propre\n",
    "# Si erreur, vérifiez que le fichier excel n'est pas déjà ouvert\n",
    "df_alias.to_excel('journal_provisoire_par_piece_clean.xlsx', engine='xlsxwriter',index=False)     \n",
    "df_alias.to_excel(filename.split('.')[0]+'_clean_'+dt_string+'.xlsx', engine='xlsxwriter',index=False)     \n",
    "\n",
    "\n",
    "print(\"Export réussi !\\nLe fichier suivant a été créé :\\n\")"
   ]
  }
 ],
 "metadata": {
  "celltoolbar": "Format de la Cellule Texte Brut",
  "kernelspec": {
   "display_name": "notebookenv",
   "language": "python",
   "name": "notebookenv"
  },
  "language_info": {
   "codemirror_mode": {
    "name": "ipython",
    "version": 3
   },
   "file_extension": ".py",
   "mimetype": "text/x-python",
   "name": "python",
   "nbconvert_exporter": "python",
   "pygments_lexer": "ipython3",
   "version": "3.10.4"
  }
 },
 "nbformat": 4,
 "nbformat_minor": 5
}
